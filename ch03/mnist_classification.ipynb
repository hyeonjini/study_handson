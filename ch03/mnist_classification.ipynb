{
 "cells": [
  {
   "cell_type": "markdown",
   "id": "cf263f14",
   "metadata": {},
   "source": [
    "# 3. 분류 (Classification)"
   ]
  },
  {
   "cell_type": "markdown",
   "id": "bedb9bec",
   "metadata": {},
   "source": [
    "# 3.1 MNIST"
   ]
  },
  {
   "cell_type": "code",
   "execution_count": 1,
   "id": "ccfad41a",
   "metadata": {},
   "outputs": [],
   "source": [
    "import pandas as pd\n",
    "import numpy as np"
   ]
  },
  {
   "cell_type": "code",
   "execution_count": 2,
   "id": "7b8a38d1",
   "metadata": {},
   "outputs": [
    {
     "data": {
      "text/plain": [
       "dict_keys(['data', 'target', 'frame', 'categories', 'feature_names', 'target_names', 'DESCR', 'details', 'url'])"
      ]
     },
     "execution_count": 2,
     "metadata": {},
     "output_type": "execute_result"
    }
   ],
   "source": [
    "from sklearn.datasets import fetch_openml\n",
    "mnist = fetch_openml('mnist_784', version=1)\n",
    "mnist.keys()"
   ]
  },
  {
   "cell_type": "code",
   "execution_count": 3,
   "id": "a2039722",
   "metadata": {},
   "outputs": [
    {
     "data": {
      "text/plain": [
       "(70000, 784)"
      ]
     },
     "execution_count": 3,
     "metadata": {},
     "output_type": "execute_result"
    }
   ],
   "source": [
    "X, y = mnist[\"data\"], mnist[\"target\"]\n",
    "X.shape"
   ]
  },
  {
   "cell_type": "code",
   "execution_count": 4,
   "id": "7039ce4d",
   "metadata": {},
   "outputs": [
    {
     "data": {
      "text/plain": [
       "(70000,)"
      ]
     },
     "execution_count": 4,
     "metadata": {},
     "output_type": "execute_result"
    }
   ],
   "source": [
    "y.shape"
   ]
  },
  {
   "cell_type": "code",
   "execution_count": 5,
   "id": "3e3808df",
   "metadata": {},
   "outputs": [],
   "source": [
    "X = X.to_numpy()\n",
    "y = y.to_numpy()"
   ]
  },
  {
   "cell_type": "code",
   "execution_count": 6,
   "id": "b2af23e7",
   "metadata": {},
   "outputs": [
    {
     "data": {
      "image/png": "[encoded data removed]",
      "text/plain": [
       "<Figure size 432x288 with 1 Axes>"
      ]
     },
     "metadata": {
      "needs_background": "light"
     },
     "output_type": "display_data"
    }
   ],
   "source": [
    "import matplotlib as mpl\n",
    "import matplotlib.pyplot as plt\n",
    "\n",
    "some_digit = X[0]\n",
    "some_digit_image = some_digit.reshape(28, 28)\n",
    "\n",
    "plt.imshow(some_digit_image, cmap=\"binary\")\n",
    "plt.axis(\"off\")\n",
    "plt.show()"
   ]
  },
  {
   "cell_type": "code",
   "execution_count": 7,
   "id": "321d38e6",
   "metadata": {},
   "outputs": [
    {
     "data": {
      "text/plain": [
       "'5'"
      ]
     },
     "execution_count": 7,
     "metadata": {},
     "output_type": "execute_result"
    }
   ],
   "source": [
    "y[0]"
   ]
  },
  {
   "cell_type": "code",
   "execution_count": 8,
   "id": "32b62a62",
   "metadata": {},
   "outputs": [],
   "source": [
    "y = y.astype(np.uint8)"
   ]
  },
  {
   "cell_type": "markdown",
   "id": "ff52ed5a",
   "metadata": {},
   "source": [
    "MNIST 데이터셋은 훈련세트와 검증세트가 이미 나누어져 있음 (0~60000: 훈련, 60000~ :검증)"
   ]
  },
  {
   "cell_type": "code",
   "execution_count": 9,
   "id": "3120b8fc",
   "metadata": {},
   "outputs": [],
   "source": [
    "X_train, X_test, y_train, y_test = X[:60000], X[60000:], y[:60000], y[60000:]"
   ]
  },
  {
   "cell_type": "markdown",
   "id": "b60cf8b4",
   "metadata": {},
   "source": [
    "# 3.2 이진 분류기 훈련\n",
    "숫자 5인지 아닌지 분류하는 이진 분류기 예시 (binary classifier)"
   ]
  },
  {
   "cell_type": "code",
   "execution_count": 10,
   "id": "f4ffbf99",
   "metadata": {},
   "outputs": [],
   "source": [
    "y_train_5 = (y_train == 5)\n",
    "y_test_5 = (y_test == 5)"
   ]
  },
  {
   "cell_type": "markdown",
   "id": "6327577c",
   "metadata": {},
   "source": [
    "scikit-learn의 SGDClassifier 클래스를 사용해 확률적 경사 하강법(SGD) <br>\n",
    "매우 큰 데이터셋을 효율적으로 처리하는 장점이 있음 (SGD가 한 번에 하나씩 훈련 샘플을 독립적으로 처리하기 때문) <br>\n",
    "온라인 학습에 잘 들어 맞음"
   ]
  },
  {
   "cell_type": "code",
   "execution_count": 11,
   "id": "fe97cfb4",
   "metadata": {},
   "outputs": [
    {
     "data": {
      "text/plain": [
       "array([ True, False, False, ...,  True, False, False])"
      ]
     },
     "execution_count": 11,
     "metadata": {},
     "output_type": "execute_result"
    }
   ],
   "source": [
    "y_train_5"
   ]
  },
  {
   "cell_type": "code",
   "execution_count": 12,
   "id": "2400a501",
   "metadata": {},
   "outputs": [
    {
     "data": {
      "text/plain": [
       "SGDClassifier(random_state=42)"
      ]
     },
     "execution_count": 12,
     "metadata": {},
     "output_type": "execute_result"
    }
   ],
   "source": [
    "from sklearn.linear_model import SGDClassifier\n",
    "\n",
    "sgd_clf = SGDClassifier(random_state=42)\n",
    "sgd_clf.fit(X_train, y_train_5)"
   ]
  },
  {
   "cell_type": "code",
   "execution_count": 13,
   "id": "abc6d285",
   "metadata": {},
   "outputs": [
    {
     "data": {
      "text/plain": [
       "array([ True])"
      ]
     },
     "execution_count": 13,
     "metadata": {},
     "output_type": "execute_result"
    }
   ],
   "source": [
    "sgd_clf.predict([some_digit]) # 5를 넣어보자"
   ]
  },
  {
   "cell_type": "markdown",
   "id": "adf71b92",
   "metadata": {},
   "source": [
    "# 3.3 성능 측정\n",
    "분류기 평가는 회귀 모델보다 훨씬 어려움\n",
    "## 3.3.1 교차 검증을 사용한 정확도 측정"
   ]
  },
  {
   "cell_type": "code",
   "execution_count": 14,
   "id": "98847433",
   "metadata": {},
   "outputs": [
    {
     "name": "stdout",
     "output_type": "stream",
     "text": [
      "0.9669\n",
      "0.91625\n",
      "0.96785\n"
     ]
    }
   ],
   "source": [
    "from sklearn.model_selection import StratifiedKFold\n",
    "from sklearn.base import clone\n",
    "\n",
    "skfolds = StratifiedKFold(n_splits=3, random_state=42, shuffle=True)\n",
    "\n",
    "for train_index, test_index in skfolds.split(X_train, y_train_5):\n",
    "    clone_clf = clone(sgd_clf)\n",
    "    X_train_folds = X_train[train_index]\n",
    "    y_train_folds = y_train_5[train_index]\n",
    "    X_test_fold = X_train[test_index]\n",
    "    y_test_fold = y_train_5[test_index]\n",
    "    \n",
    "    clone_clf.fit(X_train_folds, y_train_folds)\n",
    "    y_preds = clone_clf.predict(X_test_fold)\n",
    "    n_correct = sum(y_preds == y_test_fold) # 맞은 경우를 카운트\n",
    "    print(n_correct / len(y_preds)) # 전체중의 맞은 경우 (정확도)"
   ]
  },
  {
   "cell_type": "code",
   "execution_count": 15,
   "id": "6ace36d4",
   "metadata": {},
   "outputs": [
    {
     "data": {
      "text/plain": [
       "array([0.87365, 0.85835, 0.8689 ])"
      ]
     },
     "execution_count": 15,
     "metadata": {},
     "output_type": "execute_result"
    }
   ],
   "source": [
    "from sklearn.model_selection import cross_val_score\n",
    "cross_val_score(sgd_clf, X_train, y_train, cv=3, scoring=\"accuracy\")"
   ]
  },
  {
   "cell_type": "markdown",
   "id": "a38efcdc",
   "metadata": {},
   "source": [
    "클래스 불균형 문제이다. 모든 이미지를 5가 아님으로 예측하는 클래스로 분류하는 더미 분류기를 만들어 비교해보자"
   ]
  },
  {
   "cell_type": "code",
   "execution_count": 16,
   "id": "4d63119f",
   "metadata": {},
   "outputs": [],
   "source": [
    "from sklearn.base import BaseEstimator\n",
    "\n",
    "class Never5Classifier(BaseEstimator):\n",
    "    def fit(self, X, y=None):\n",
    "        return self\n",
    "    def predict(self, X):\n",
    "        return np.zeros((len(X), 1), dtype=bool)"
   ]
  },
  {
   "cell_type": "code",
   "execution_count": 17,
   "id": "57718bcb",
   "metadata": {},
   "outputs": [
    {
     "data": {
      "text/plain": [
       "array([0.91125, 0.90855, 0.90915])"
      ]
     },
     "execution_count": 17,
     "metadata": {},
     "output_type": "execute_result"
    }
   ],
   "source": [
    "never_5_clf = Never5Classifier()\n",
    "cross_val_score(never_5_clf, X_train, y_train_5, cv=3, scoring=\"accuracy\")"
   ]
  },
  {
   "cell_type": "markdown",
   "id": "f5cddfc6",
   "metadata": {},
   "source": [
    "전체 이미지 중에서 10%만 숫자 5이기 때문에 무조건 5아님을 예측하면 확률이 90%이다. <br>\n",
    "불균형한 데이터셋을 다룰때 정확도를 분류기의 성능 측정 지표로 선호하지 않는다."
   ]
  },
  {
   "cell_type": "markdown",
   "id": "edf5439f",
   "metadata": {},
   "source": [
    "## 3.3.2 오차 행렬 (Confusion Matrix)\n",
    "클래스 A의 샘플이 클래스 B로 분류된 횟수를 세는 것 <br>\n",
    "ex) 숫자 5의 이미지를 3으로 잘못 분류한 횟수를 알아보자"
   ]
  },
  {
   "cell_type": "code",
   "execution_count": 18,
   "id": "ad5cede2",
   "metadata": {},
   "outputs": [],
   "source": [
    "from sklearn.model_selection import cross_val_predict\n",
    "\n",
    "y_train_pred = cross_val_predict(sgd_clf, X_train, y_train_5, cv=3)"
   ]
  },
  {
   "cell_type": "code",
   "execution_count": 19,
   "id": "47b4aec2",
   "metadata": {},
   "outputs": [
    {
     "data": {
      "text/plain": [
       "array([[53892,   687],\n",
       "       [ 1891,  3530]], dtype=int64)"
      ]
     },
     "execution_count": 19,
     "metadata": {},
     "output_type": "execute_result"
    }
   ],
   "source": [
    "from sklearn.metrics import confusion_matrix\n",
    "confusion_matrix(y_train_5, y_train_pred) # 실제값, 예측값(cv적용)"
   ]
  },
  {
   "cell_type": "markdown",
   "id": "83205b99",
   "metadata": {},
   "source": [
    "오차 행렬의 행은 실제 클래스, 열은 예측한 클래스를 나타낸다. (음성, 양성) <br>\n",
    "53892개는 잘 예측했음 (True Negative) - 정탐 <br>\n",
    "687개는 잘못 예측 (False Positive) - 오탐 <br>\n",
    "1891개는 잘못예측 (False Negative) - 미탐 <br>\n",
    "4096개는 잘 예측 (Ture Positive) - 정탐 <br>\n",
    "\n",
    "\"5를 찾아내야함\" \n",
    "- 분류기를 속이고 안들킴 (미탐, FN)\n",
    "- 분류기가 확신을 갖고 분류했지만 틀림 (오탐, FP)"
   ]
  },
  {
   "cell_type": "markdown",
   "id": "188a9b7b",
   "metadata": {},
   "source": [
    "양성 예측 정확도 -> 정밀도 <br>\n",
    "\n",
    "TP / TP + FP -> 분류기가 분류해낸 것 중에 진짜 맞은것\n",
    "\n",
    "분류기가 정확하게 감지한 양성 샘플의 비율 -> 재현율\n",
    "\n",
    "TP / TP + FN -> 미탐과 정탐 중 정확하게 감지한 비율"
   ]
  },
  {
   "cell_type": "code",
   "execution_count": 20,
   "id": "5231c09a",
   "metadata": {},
   "outputs": [
    {
     "data": {
      "text/plain": [
       "0.8370879772350012"
      ]
     },
     "execution_count": 20,
     "metadata": {},
     "output_type": "execute_result"
    }
   ],
   "source": [
    "from sklearn.metrics import precision_score, recall_score\n",
    "precision = precision_score(y_train_5, y_train_pred)\n",
    "precision"
   ]
  },
  {
   "cell_type": "code",
   "execution_count": 21,
   "id": "86b7e501",
   "metadata": {},
   "outputs": [
    {
     "data": {
      "text/plain": [
       "0.6511713705958311"
      ]
     },
     "execution_count": 21,
     "metadata": {},
     "output_type": "execute_result"
    }
   ],
   "source": [
    "recall = recall_score(y_train_5, y_train_pred)\n",
    "recall"
   ]
  },
  {
   "cell_type": "markdown",
   "id": "8937f73a",
   "metadata": {},
   "source": [
    "정밀도와 재현율의 조화평균 -> F1 score\n",
    "\n",
    "2 * (정밀도 * 재현율) / (정밀도 + 재현율)"
   ]
  },
  {
   "cell_type": "code",
   "execution_count": 22,
   "id": "7822c340",
   "metadata": {},
   "outputs": [
    {
     "data": {
      "text/plain": [
       "0.7325171197343846"
      ]
     },
     "execution_count": 22,
     "metadata": {},
     "output_type": "execute_result"
    }
   ],
   "source": [
    "from sklearn.metrics import f1_score\n",
    "f1_score(y_train_5, y_train_pred)"
   ]
  },
  {
   "cell_type": "code",
   "execution_count": 23,
   "id": "a647fa82",
   "metadata": {},
   "outputs": [
    {
     "data": {
      "text/plain": [
       "0.7325171197343846"
      ]
     },
     "execution_count": 23,
     "metadata": {},
     "output_type": "execute_result"
    }
   ],
   "source": [
    "2 * (precision * recall) / (precision + recall)"
   ]
  },
  {
   "cell_type": "markdown",
   "id": "ce7dc9c2",
   "metadata": {},
   "source": [
    "정밀도와 재현율이 비슷한 분류기에서는 F1 점수가 높다. 이게 항상 바람직한 것은 아니다. 상황에 따라 정밀도가 중요할 수도 잇고 재현율이 중요할 수도 있다. <br>\n",
    "\n",
    "정밀도가 높다 -> TP가 높고, FP가 낮음 -> 오탐이 낮음 -> 분류해야할 대상을 못잡는 일이 없음 <br>\n",
    "재현율이 높다 -> TP가 높고, FN가 낮음 -> 미탐이 낮음 -> 의심이 많아서 도둑을 거의 다 잡음 <br>"
   ]
  },
  {
   "cell_type": "markdown",
   "id": "2e614c56",
   "metadata": {},
   "source": [
    "## 3.3.4 정밀도/재현율 트레이드 오프\n",
    "SGDClassifier 는 결정 함수(decision function)를 사용해 샘플의 점수를 계산한다. <br>\n",
    "이 점수가 임계값보다 크면 샘플을 양성 클래스에 할당하고 그렇지 않으면 음성 클래스에 할당한다. <br>\n",
    "사이킷런에서는 이러한 임계값을 직접 지정할 수 없지만 예측에 사용한 점수는 확인할 수 있다."
   ]
  },
  {
   "cell_type": "code",
   "execution_count": 24,
   "id": "cde1ccfe",
   "metadata": {},
   "outputs": [
    {
     "data": {
      "text/plain": [
       "array([2164.22030239])"
      ]
     },
     "execution_count": 24,
     "metadata": {},
     "output_type": "execute_result"
    }
   ],
   "source": [
    "y_scores = sgd_clf.decision_function([some_digit])\n",
    "y_scores"
   ]
  },
  {
   "cell_type": "code",
   "execution_count": 25,
   "id": "3b43792f",
   "metadata": {},
   "outputs": [
    {
     "data": {
      "text/plain": [
       "array([ True])"
      ]
     },
     "execution_count": 25,
     "metadata": {},
     "output_type": "execute_result"
    }
   ],
   "source": [
    "threshold = 0\n",
    "y_some_digit_pred = (y_scores > threshold)\n",
    "y_some_digit_pred"
   ]
  },
  {
   "cell_type": "code",
   "execution_count": 26,
   "id": "da778ddd",
   "metadata": {},
   "outputs": [
    {
     "data": {
      "text/plain": [
       "array([False])"
      ]
     },
     "execution_count": 26,
     "metadata": {},
     "output_type": "execute_result"
    }
   ],
   "source": [
    "threshold=8000\n",
    "y_some_digit_pred = (y_scores > threshold)\n",
    "y_some_digit_pred"
   ]
  },
  {
   "cell_type": "markdown",
   "id": "85f16f60",
   "metadata": {},
   "source": [
    "임계값을 높이면 재현율이 줄어든다는 것을 알 수 있다. (미탐이 높아짐) <br>\n",
    "cross_val_predict() 함수를 사용해 훈련 세트에 있는 모든 샘플의 점수를 구해보자 (decision_function)"
   ]
  },
  {
   "cell_type": "code",
   "execution_count": 28,
   "id": "641a826e",
   "metadata": {},
   "outputs": [],
   "source": [
    "y_scores = cross_val_predict(sgd_clf, X_train, y_train_5, cv=3, method=\"decision_function\")"
   ]
  },
  {
   "cell_type": "code",
   "execution_count": 33,
   "id": "e6bcda42",
   "metadata": {},
   "outputs": [],
   "source": [
    "from sklearn.metrics import precision_recall_curve\n",
    "\n",
    "precisions, recalls, thresholds = precision_recall_curve(y_train_5, y_scores)"
   ]
  },
  {
   "cell_type": "code",
   "execution_count": 34,
   "id": "8007051b",
   "metadata": {},
   "outputs": [],
   "source": [
    "def plot_precision_recall_vs_threshold(precisions, recalls, thresholds):\n",
    "    plt.plot(thresholds, precisions[:-1], \"b--\", label=\"정밀도\")\n",
    "    plt.plot(thresholds, recalls[:-1], \"g-\", label=\"재현율\")"
   ]
  },
  {
   "cell_type": "code",
   "execution_count": 35,
   "id": "b3b0bd19",
   "metadata": {},
   "outputs": [
    {
     "data": {
      "image/png": "[encoded data removed]",
      "text/plain": [
       "<Figure size 432x288 with 1 Axes>"
      ]
     },
     "metadata": {
      "needs_background": "light"
     },
     "output_type": "display_data"
    }
   ],
   "source": [
    "plot_precision_recall_vs_threshold(precisions, recalls, thresholds)\n",
    "plt.show()"
   ]
  },
  {
   "cell_type": "markdown",
   "id": "864ca661",
   "metadata": {},
   "source": [
    "만약 정밀도 90%를 달성하는 것이 프로젝트에 목표라고 가정한다면 임계값은 약 8,000 정도라는 것을 알 수 있다. <br>\n",
    "조금 더 정확하게 최소한 90% 정밀도가 되는 가장 낮은 임계값을 찾아보자 (np.zrgmax()를 쓰면 최잿값의 첫 번째 인덱스를 반환한다.)"
   ]
  },
  {
   "cell_type": "code",
   "execution_count": 37,
   "id": "7ce11bab",
   "metadata": {},
   "outputs": [
    {
     "data": {
      "text/plain": [
       "3370.0194991439557"
      ]
     },
     "execution_count": 37,
     "metadata": {},
     "output_type": "execute_result"
    }
   ],
   "source": [
    "threshold_90_precision = thresholds[np.argmax(precisions >= 0.90)]\n",
    "threshold_90_precision"
   ]
  },
  {
   "cell_type": "code",
   "execution_count": 38,
   "id": "350e8ad2",
   "metadata": {},
   "outputs": [],
   "source": [
    "y_train_pred_90 = (y_scores >= threshold_90_precision)"
   ]
  },
  {
   "cell_type": "code",
   "execution_count": 39,
   "id": "fdcef4a2",
   "metadata": {},
   "outputs": [
    {
     "data": {
      "text/plain": [
       "0.9000345901072293"
      ]
     },
     "execution_count": 39,
     "metadata": {},
     "output_type": "execute_result"
    }
   ],
   "source": [
    "precision_score(y_train_5, y_train_pred_90)"
   ]
  },
  {
   "cell_type": "code",
   "execution_count": 40,
   "id": "7c698af9",
   "metadata": {},
   "outputs": [
    {
     "data": {
      "text/plain": [
       "0.4799852425751706"
      ]
     },
     "execution_count": 40,
     "metadata": {},
     "output_type": "execute_result"
    }
   ],
   "source": [
    "recall_score(y_train_5, y_train_pred_90)"
   ]
  },
  {
   "cell_type": "markdown",
   "id": "d283b399",
   "metadata": {},
   "source": [
    "누군가 99% 정밀도를 달성하자고 말하면 재현율 얼마에서? 라고 물어봐야 한다."
   ]
  },
  {
   "cell_type": "markdown",
   "id": "93603908",
   "metadata": {},
   "source": [
    "## 3.3.5 ROC 곡선\n",
    "receiver operating characteristic(ROC) 곡선도 이진 분류에서 널리 사용함 <br>\n",
    "정밀도/재현율과 매우 비슷하지만 거짓 양성 비율 (FPR)에 대한 진짜 양성 비율 (TPR) 곡선이다."
   ]
  },
  {
   "cell_type": "code",
   "execution_count": 41,
   "id": "713d89fc",
   "metadata": {},
   "outputs": [],
   "source": [
    "from sklearn.metrics import roc_curve\n",
    "fpr, tpr, thresholds = roc_curve(y_train_5, y_scores)"
   ]
  },
  {
   "cell_type": "code",
   "execution_count": 42,
   "id": "2dd86cf1",
   "metadata": {},
   "outputs": [],
   "source": [
    "def plot_roc_curve(fpr, tpr, label=None):\n",
    "    plt.plot(fpr, tpr, linewidth=2, label=label)\n",
    "    plt.plot([0, 1], [0, 1], 'k--')"
   ]
  },
  {
   "cell_type": "code",
   "execution_count": 43,
   "id": "93ee7473",
   "metadata": {},
   "outputs": [
    {
     "data": {
      "image/png": "[encoded data removed]",
      "text/plain": [
       "<Figure size 432x288 with 1 Axes>"
      ]
     },
     "metadata": {
      "needs_background": "light"
     },
     "output_type": "display_data"
    }
   ],
   "source": [
    "plot_roc_curve(fpr, tpr)\n",
    "plt.show()"
   ]
  },
  {
   "cell_type": "markdown",
   "id": "c0783e94",
   "metadata": {},
   "source": [
    "TPR이 높을 수록 분류기가 만드는 거짓 양성 FPR이 늘어난다. 곡선 아래의 면적 (AUC)을 측정하면 분류기들을 비교할 수 있다.<br>\n",
    "완벽한 분류기는 ROC의 AUC가 1이고 완전 랜덤한 분류기는 0.5다"
   ]
  },
  {
   "cell_type": "code",
   "execution_count": 44,
   "id": "06287813",
   "metadata": {},
   "outputs": [
    {
     "data": {
      "text/plain": [
       "0.9604938554008616"
      ]
     },
     "execution_count": 44,
     "metadata": {},
     "output_type": "execute_result"
    }
   ],
   "source": [
    "from sklearn.metrics import roc_auc_score\n",
    "roc_auc_score(y_train_5, y_scores)"
   ]
  },
  {
   "cell_type": "markdown",
   "id": "bb2a4e1e",
   "metadata": {},
   "source": [
    "RandomForestClassifier를 훈련 시켜 SGDClassifier의 ROC곡선과 ROC AUC 점수를 비교해보자. <br>\n",
    "두 모델은 동작 방식의 차이 때문에 RandomForestClassifier에는 decision_function() 메서드가 없다. 대신 predict_proba() 메서드를 이용"
   ]
  },
  {
   "cell_type": "code",
   "execution_count": 47,
   "id": "b09e625e",
   "metadata": {},
   "outputs": [],
   "source": [
    "from sklearn.ensemble import RandomForestClassifier\n",
    "\n",
    "forest_clf = RandomForestClassifier(random_state=42)\n",
    "y_probas_forest = cross_val_predict(forest_clf, X_train, y_train_5, cv=3, method=\"predict_proba\")"
   ]
  },
  {
   "cell_type": "code",
   "execution_count": 48,
   "id": "14e90d78",
   "metadata": {},
   "outputs": [],
   "source": [
    "y_scores_forest = y_probas_forest[:, 1]\n",
    "fpr_forest, tpr_forest, thresholds_forest = roc_curve(y_train_5, y_scores_forest)"
   ]
  },
  {
   "cell_type": "code",
   "execution_count": 49,
   "id": "ea1eaa9b",
   "metadata": {},
   "outputs": [
    {
     "name": "stderr",
     "output_type": "stream",
     "text": [
      "C:\\ProgramData\\Anaconda3\\lib\\site-packages\\matplotlib\\backends\\backend_agg.py:238: RuntimeWarning: Glyph 47004 missing from current font.\n",
      "  font.set_text(s, 0.0, flags=flags)\n",
      "C:\\ProgramData\\Anaconda3\\lib\\site-packages\\matplotlib\\backends\\backend_agg.py:238: RuntimeWarning: Glyph 45924 missing from current font.\n",
      "  font.set_text(s, 0.0, flags=flags)\n",
      "C:\\ProgramData\\Anaconda3\\lib\\site-packages\\matplotlib\\backends\\backend_agg.py:238: RuntimeWarning: Glyph 54252 missing from current font.\n",
      "  font.set_text(s, 0.0, flags=flags)\n",
      "C:\\ProgramData\\Anaconda3\\lib\\site-packages\\matplotlib\\backends\\backend_agg.py:238: RuntimeWarning: Glyph 47112 missing from current font.\n",
      "  font.set_text(s, 0.0, flags=flags)\n",
      "C:\\ProgramData\\Anaconda3\\lib\\site-packages\\matplotlib\\backends\\backend_agg.py:238: RuntimeWarning: Glyph 49828 missing from current font.\n",
      "  font.set_text(s, 0.0, flags=flags)\n",
      "C:\\ProgramData\\Anaconda3\\lib\\site-packages\\matplotlib\\backends\\backend_agg.py:238: RuntimeWarning: Glyph 53944 missing from current font.\n",
      "  font.set_text(s, 0.0, flags=flags)\n",
      "C:\\ProgramData\\Anaconda3\\lib\\site-packages\\matplotlib\\backends\\backend_agg.py:201: RuntimeWarning: Glyph 47004 missing from current font.\n",
      "  font.set_text(s, 0, flags=flags)\n",
      "C:\\ProgramData\\Anaconda3\\lib\\site-packages\\matplotlib\\backends\\backend_agg.py:201: RuntimeWarning: Glyph 45924 missing from current font.\n",
      "  font.set_text(s, 0, flags=flags)\n",
      "C:\\ProgramData\\Anaconda3\\lib\\site-packages\\matplotlib\\backends\\backend_agg.py:201: RuntimeWarning: Glyph 54252 missing from current font.\n",
      "  font.set_text(s, 0, flags=flags)\n",
      "C:\\ProgramData\\Anaconda3\\lib\\site-packages\\matplotlib\\backends\\backend_agg.py:201: RuntimeWarning: Glyph 47112 missing from current font.\n",
      "  font.set_text(s, 0, flags=flags)\n",
      "C:\\ProgramData\\Anaconda3\\lib\\site-packages\\matplotlib\\backends\\backend_agg.py:201: RuntimeWarning: Glyph 49828 missing from current font.\n",
      "  font.set_text(s, 0, flags=flags)\n",
      "C:\\ProgramData\\Anaconda3\\lib\\site-packages\\matplotlib\\backends\\backend_agg.py:201: RuntimeWarning: Glyph 53944 missing from current font.\n",
      "  font.set_text(s, 0, flags=flags)\n"
     ]
    },
    {
     "data": {
      "image/png": "[encoded data removed]",
      "text/plain": [
       "<Figure size 432x288 with 1 Axes>"
      ]
     },
     "metadata": {
      "needs_background": "light"
     },
     "output_type": "display_data"
    }
   ],
   "source": [
    "plt.plot(fpr, tpr, \"b:\", label=\"SGD\")\n",
    "plot_roc_curve(fpr_forest, tpr_forest, \"랜덤 포레스트\")\n",
    "plt.legend(loc=\"lower right\")\n",
    "plt.show()"
   ]
  },
  {
   "cell_type": "code",
   "execution_count": 50,
   "id": "0f51c86b",
   "metadata": {},
   "outputs": [
    {
     "data": {
      "text/plain": [
       "0.9983436731328145"
      ]
     },
     "execution_count": 50,
     "metadata": {},
     "output_type": "execute_result"
    }
   ],
   "source": [
    "roc_auc_score(y_train_5, y_scores_forest)"
   ]
  },
  {
   "cell_type": "markdown",
   "id": "ce9c2d6d",
   "metadata": {},
   "source": [
    "랜덤포레스트가 왼쪽 상단(1)에 가깝고 roc_auc_score 도 훨씬 높다. "
   ]
  },
  {
   "cell_type": "markdown",
   "id": "cd4cdda3",
   "metadata": {},
   "source": [
    "# 3.4 다중 분류\n"
   ]
  }
 ],
 "metadata": {
  "kernelspec": {
   "display_name": "Python 3",
   "language": "python",
   "name": "python3"
  },
  "language_info": {
   "codemirror_mode": {
    "name": "ipython",
    "version": 3
   },
   "file_extension": ".py",
   "mimetype": "text/x-python",
   "name": "python",
   "nbconvert_exporter": "python",
   "pygments_lexer": "ipython3",
   "version": "3.8.8"
  }
 },
 "nbformat": 4,
 "nbformat_minor": 5
}
